{
 "cells": [
  {
   "cell_type": "code",
   "execution_count": 2,
   "metadata": {},
   "outputs": [],
   "source": [
    "import pandas as pd"
   ]
  },
  {
   "cell_type": "code",
   "execution_count": null,
   "metadata": {},
   "outputs": [],
   "source": [
    "def get_schedule_course(codigo_course):\n",
    "    dias = ['Lunes', 'Martes', 'Miércoles', 'Jueves', 'Viernes', 'Sábado']\n",
    "    horas = ['h6_7', 'h7_8', 'h8_9', 'h9_10', 'h10_11', 'h11_12', 'h12_13', 'h13_14', 'h14_15', 'h15_16', 'h16_17', 'h17_18', 'h18_19', 'h19_20', 'h20_21', 'h21_22']\n",
    "    letras = ['L', 'M', 'MI', 'J', 'V', 'S']\n",
    "\n",
    "    df = pd.read_excel('4-2023.xlsx')\n",
    "    print(df)\n",
    "    df = df.drop([0])\n",
    "    df.columns = ['Source', 'FICHA', 'FORMACION', 'TITULAR', 'TRIMESTRE_ACADÉMICO', 'COMPETENCIA', 'NOMBRE_COMPETENCIA', 'RAP 1', 'RAP 2', 'RAP 3', 'RAP 4', 'RAP 5', 'RAP 6', 'INSTRUCTOR', 'NC2', 'HORAS_SEMANAL', 'NN2', 'h6_7L', 'h7_8L', 'h8_9L', 'h9_10L', 'h10_11L', 'h11_12L', 'h12_13L', 'h13_14L', 'h14_15L', 'h15_16L', 'h16_17L', 'h17_18L', 'h18_19L', 'h19_20L', 'h20_21L', 'h21_22L', 'h6_7M', 'h7_8M', 'h8_9M', 'h9_10M', 'h10_11M', 'h11_12M', 'h12_13M', 'h13_14M', 'h14_15M', 'h15_16M', 'h16_17M', 'h17_18M', 'h18_19M', 'h19_20M', 'h20_21M', 'h21_22M', 'h6_7MI', 'h7_8MI', 'h8_9MI', 'h9_10MI', 'h10_11MI', 'h11_12MI', 'h12_13MI', 'h13_14MI', 'h14_15MI', 'h15_16MI', 'h16_17MI', 'h17_18MI', 'h18_19MI', 'h19_20MI', 'h20_21MI', 'h21_22MI', 'h6_7J', 'h7_8J', 'h8_9J', 'h9_10J', 'h10_11J', 'h11_12J', 'h12_13J', 'h13_14J', 'h14_15J', 'h15_16J', 'h16_17J', 'h17_18J', 'h18_19J', 'h19_20J', 'h20_21J', 'h21_22J', 'h6_7V', 'h7_8V', 'h8_9V', 'h9_10V', 'h10_11V', 'h11_12V', 'h12_13V', 'h13_14V', 'h14_15V', 'h15_16V', 'h16_17V', 'h17_18V', 'h18_19V', 'h19_20V', 'h20_21V', 'h21_22V', 'h6_7S', 'h7_8S', 'h8_9S', 'h9_10S', 'h10_11S', 'h11_12S', 'h12_13S', 'h13_14S', 'h14_15S', 'h15_16S', 'h16_17S', 'h17_18S', 'h18_19S', 'h19_20S', 'h20_21S', 'h21_22S']\n",
    "    \n",
    "    df = df.drop(['Source', 'FORMACION', 'TITULAR', 'TRIMESTRE_ACADÉMICO', 'COMPETENCIA', 'RAP 1', 'RAP 2', 'RAP 3', 'RAP 4', 'RAP 5', 'RAP 6', 'NC2', 'HORAS_SEMANAL', 'NN2', 'HORAS_SEMANAL',], axis=1)\n",
    "    \n",
    "    df['NOMBRE_COMPETENCIA'] = df['NOMBRE_COMPETENCIA'].str.split('-').str[1].str.strip()\n",
    "\n",
    "    df = df[df['FICHA'.split(\" \")][0].str.strip() == codigo_course]\n",
    "\n",
    "    schedule_course = {\"nombre\": codigo_course, \"horario\": {}}\n",
    "\n",
    "    for dia, letra in zip(dias, letras):\n",
    "        horario_dia = {}\n",
    "        for hora in horas:\n",
    "            columna = f\"{hora}{letra}\"\n",
    "            if columna in df.columns:\n",
    "                clases = df[df[columna].notnull()][[columna, 'NOMBRE_COMPETENCIA', 'INSTRUCTOR']].rename(columns={columna: 'AMB'}).to_dict('records')\n",
    "                horario_dia[hora] = clases\n",
    "        schedule_course[\"horario\"][dia] = horario_dia    \n",
    "\n",
    "    return schedule_course\n",
    "\n",
    "print(get_schedule_course('255218'))"
   ]
  },
  {
   "cell_type": "code",
   "execution_count": null,
   "metadata": {},
   "outputs": [],
   "source": [
    "#Leer el excel https://unadvirtualedu-my.sharepoint.com/:x:/g/personal/ddbenavidess_unadvirtual_edu_co/EUsdLmlHLUNLqReaE8273ssBm1WzXT3Yqz9g4eMEN4z7RQ?rtime=fZHCQ7_920g\n",
    "\n",
    "df = pd.read_excel('https://unadvirtualedu-my.sharepoint.com/:x:/g/personal/ddbenavidess_unadvirtual_edu_co/EUsdLmlHLUNLqReaE8273ssBm1WzXT3Yqz9g4eMEN4z7RQ?rtime=fZHCQ7_920g')\n",
    "print(df)"
   ]
  },
  {
   "cell_type": "code",
   "execution_count": 16,
   "metadata": {},
   "outputs": [
    {
     "name": "stdout",
     "output_type": "stream",
     "text": [
      "[{'documentType': 'CC', 'documentNumber': '1000099918', 'name': 'LUIS ANGEL', 'lastName': 'CORREA RAMIREZ', 'cellphone': '3017703613', 'email': 'luisanimation3d@gmail.com', 'status': 'EN FORMACION', 'course': '2559218'}, {'documentType': 'CC', 'documentNumber': '1000203092', 'name': 'ALEJANDRO', 'lastName': 'VELASQUEZ CORRALES', 'cellphone': '3008448912', 'email': 'velalejandro23@gmail.com', 'status': 'EN FORMACION', 'course': '2559218'}, {'documentType': 'CC', 'documentNumber': '1000290413', 'name': 'SANTIAGO', 'lastName': 'HERNANDEZ TOBON', 'cellphone': '3218862877', 'email': 'hdzsl802@gmail.com', 'status': 'EN FORMACION', 'course': '2559218'}, {'documentType': 'CC', 'documentNumber': '1000537437', 'name': 'MATEO', 'lastName': 'OSORIO MONTES', 'cellphone': '3006141688', 'email': 'mateohola09@gmail.com', 'status': 'EN FORMACION', 'course': '2559218'}, {'documentType': 'CC', 'documentNumber': '1000635888', 'name': 'SANTIAGO ANDRES', 'lastName': 'ACEVEDO VELEZ', 'cellphone': '3023502277', 'email': 'dertty380@gmail.com', 'status': 'EN FORMACION', 'course': '2559218'}, {'documentType': 'CC', 'documentNumber': '1001131796', 'name': 'ANDRES MATEO', 'lastName': 'CALLE LEZCANO', 'cellphone': '3007685332', 'email': 'lezknooteo@gmail.com', 'status': 'EN FORMACION', 'course': '2559218'}, {'documentType': 'CC', 'documentNumber': '1001250555', 'name': 'CAMILO', 'lastName': 'MITNICK GUTIERREZ', 'cellphone': '3166429475', 'email': 'pepers09180@gmail.com', 'status': 'APLAZADO', 'course': '2559218'}, {'documentType': 'CC', 'documentNumber': '1007238447', 'name': 'EMMANUEL', 'lastName': 'TABARES ORTIZ', 'cellphone': '3218298707', 'email': 'emanuel_tabares@hotmail.com', 'status': 'EN FORMACION', 'course': '2559218'}, {'documentType': 'CC', 'documentNumber': '1017922431', 'name': 'SAMUEL', 'lastName': 'OSORIO FRANCO', 'cellphone': '3007135507', 'email': 'osoriofrancosamuel@outlook.com', 'status': 'EN FORMACION', 'course': '2559218'}, {'documentType': 'CC', 'documentNumber': '1020105787', 'name': 'ALEJANDRA', 'lastName': 'AGUIRRE MEJIA', 'cellphone': '3145633418', 'email': 'alejandramejia1256@gmail.com', 'status': 'EN FORMACION', 'course': '2559218'}, {'documentType': 'CC', 'documentNumber': '1020222783', 'name': 'CRISTIAN ANDRES', 'lastName': 'RESTREPO MORALES', 'cellphone': '3215733307', 'email': 'cristian.restrepo@iejva.edu.co', 'status': 'RETIRO VOLUNTARIO', 'course': '2559218'}, {'documentType': 'CC', 'documentNumber': '1020433214', 'name': 'ANLLY CATERINE', 'lastName': 'JIMENEZ PIEDRAHITA', 'cellphone': '2118246', 'email': 'anllyjimenez@hotmail.com', 'status': 'CANCELADO', 'course': '2559218'}, {'documentType': 'CC', 'documentNumber': '1020473546', 'name': 'DANIEL', 'lastName': 'CANO SUAREZ', 'cellphone': '3104935818', 'email': 'dcanosu@gmail.com', 'status': 'CANCELADO', 'course': '2559218'}, {'documentType': 'CC', 'documentNumber': '1025760155', 'name': 'MARLON ANDRES', 'lastName': 'JARAMILLO SALDARRIAGA', 'cellphone': '3046550935', 'email': 'jaramillomarlon160@gmail.com', 'status': 'EN FORMACION', 'course': '2559218'}, {'documentType': 'CC', 'documentNumber': '1026306332', 'name': 'IVAN CAMILO', 'lastName': 'FLOREZ NOREÑA', 'cellphone': '3016223595', 'email': 'lobocamilo14@gmail.com', 'status': 'CANCELADO', 'course': '2559218'}, {'documentType': 'CC', 'documentNumber': '1033256342', 'name': 'JUAN JOSE', 'lastName': 'TAMAYO ESTRADA', 'cellphone': '3013496643', 'email': 'juanjotamayo2004@gmail.com', 'status': 'RETIRO VOLUNTARIO', 'course': '2559218'}, {'documentType': 'CC', 'documentNumber': '1035235176', 'name': 'CAMILO ANDRES', 'lastName': 'MARTINEZ DEL CASTILLO', 'cellphone': '3045950348', 'email': 'showcamilo@gmail.com', 'status': 'CANCELADO', 'course': '2559218'}, {'documentType': 'CC', 'documentNumber': '1035436415', 'name': 'JUAN DAVID', 'lastName': 'QUIROZ PALACIO', 'cellphone': '3172950207', 'email': 'juanq640@gmail.com', 'status': 'EN FORMACION', 'course': '2559218'}, {'documentType': 'CC', 'documentNumber': '1035878266', 'name': 'JUAN DAVID', 'lastName': 'CORDOBA SANCHEZ', 'cellphone': '3228846333', 'email': 'juancordoba2203@hotmail.com', 'status': 'EN FORMACION', 'course': '2559218'}, {'documentType': 'CC', 'documentNumber': '1037120690', 'name': 'DAVID', 'lastName': 'MESA OROZCO', 'cellphone': '3122905164', 'email': 'david.mesa.orozco@gmail.com', 'status': 'RETIRO VOLUNTARIO', 'course': '2559218'}, {'documentType': 'CC', 'documentNumber': '1038802670', 'name': 'JONATHAN OBED', 'lastName': 'HENAO USUGA', 'cellphone': '3053397202', 'email': 'job-17@hotmail.es', 'status': 'RETIRO VOLUNTARIO', 'course': '2559218'}, {'documentType': 'CC', 'documentNumber': '1039762404', 'name': 'MARIA FERNANDA', 'lastName': 'MONTOYA CASTRILLON', 'cellphone': '3505807206', 'email': 'mariacastrillon982@gmail.com', 'status': 'RETIRO VOLUNTARIO', 'course': '2559218'}, {'documentType': 'CC', 'documentNumber': '1040744002', 'name': 'KELLY JOHANNA', 'lastName': 'MARIN GOMEZ', 'cellphone': '3176999049', 'email': 'kjmarin200@misena.edu.co', 'status': 'EN FORMACION', 'course': '2559218'}, {'documentType': 'CC', 'documentNumber': '1062674086', 'name': 'LEIDER JOSE', 'lastName': 'RACERO HOYOS', 'cellphone': '3022051809', 'email': 'leiderracerohoyos@gmail.com', 'status': 'CANCELADO', 'course': '2559218'}, {'documentType': 'CC', 'documentNumber': '1079358106', 'name': 'DANIEL', 'lastName': 'VALENCIA VALENCIA', 'cellphone': '3003547881', 'email': 'valenciadaniel135@gmail.com', 'status': 'CONDICIONADO', 'course': '2559218'}, {'documentType': 'CC', 'documentNumber': '1102870618', 'name': 'JHAROL', 'lastName': 'BERRIO NARVAEZ', 'cellphone': '3213319724', 'email': 'berriojh2018@gmail.com', 'status': 'RETIRO VOLUNTARIO', 'course': '2559218'}, {'documentType': 'CC', 'documentNumber': '1152704571', 'name': 'JORGE IGNACIO', 'lastName': 'RODRIGUEZ MONSALVE', 'cellphone': '3122149613', 'email': 'jorge151550@gmail.com', 'status': 'EN FORMACION', 'course': '2559218'}, {'documentType': 'CC', 'documentNumber': '1193045592', 'name': 'JOSE MANUEL', 'lastName': 'MORANTE VELEZ', 'cellphone': '3116497249', 'email': 'josemorantevelez@gmail.com', 'status': 'CANCELADO', 'course': '2559218'}, {'documentType': 'CC', 'documentNumber': '1193118709', 'name': 'ALEJANDRO', 'lastName': 'PEREIRA TORRES', 'cellphone': '3042816551', 'email': 'alejandropereira123456@gmail.com', 'status': 'RETIRO VOLUNTARIO', 'course': '2559218'}, {'documentType': 'CC', 'documentNumber': '1214720855', 'name': 'ESTEFANIA', 'lastName': 'ISAZA ACEVEDO', 'cellphone': nan, 'email': 'estefaniaisaza24@hotmail.com', 'status': 'RETIRO VOLUNTARIO', 'course': '2559218'}, {'documentType': 'CC', 'documentNumber': '1216730094', 'name': 'DANIEL YOVANY', 'lastName': 'RIVERA TORRES', 'cellphone': '3043770928', 'email': 'daniely_rivera@soy.sena.edu.co', 'status': 'EN FORMACION', 'course': '2559218'}, {'documentType': 'CC', 'documentNumber': '1234989426', 'name': 'JUAN CAMILO', 'lastName': 'PEREZ SERNA', 'cellphone': '3024370875', 'email': 'milo-rap2010@hotmail.com', 'status': 'EN FORMACION', 'course': '2559218'}, {'documentType': 'TI', 'documentNumber': '1039680743', 'name': 'SEBASTIAN', 'lastName': 'BARBOZA MORALES', 'cellphone': nan, 'email': 'sebastian2430mejor@gmail.com', 'status': 'CANCELADO', 'course': '2559218'}, {'documentType': 'TI', 'documentNumber': '1043414072', 'name': 'LUIS MIGUEL', 'lastName': 'RUIZ AGUDELO', 'cellphone': '3226544702', 'email': 'luismiguelruizagudelo@gmail.com', 'status': 'CANCELADO', 'course': '2559218'}]\n"
     ]
    }
   ],
   "source": [
    "def upl_students(code_course):   \n",
    "    students_df = pd.read_excel('../course-students/' + code_course + '.xlsx')    \n",
    "    # Eliminar las filas 0 -2\n",
    "    students_df = students_df.drop([0, 1, 2, 3])\n",
    "    # renombrar las columnas 'documentType', 'documentNumber', 'name', 'lastName', 'cellphone', 'email', 'status'   \n",
    "    students_df.columns = ['documentType', 'documentNumber', 'name', 'lastName', 'cellphone', 'email', 'status']\n",
    "    students_df['course'] = code_course\n",
    "\n",
    "    return students_df.to_dict('records')"
   ]
  },
  {
   "cell_type": "code",
   "execution_count": 13,
   "metadata": {},
   "outputs": [
    {
     "name": "stdout",
     "output_type": "stream",
     "text": [
      "     documentNumber        status  \\\n",
      "12       1000099918  EN FORMACION   \n",
      "13       1000099918  EN FORMACION   \n",
      "14       1000099918  EN FORMACION   \n",
      "15       1000099918  EN FORMACION   \n",
      "16       1000099918  EN FORMACION   \n",
      "...             ...           ...   \n",
      "2557     1234989426  EN FORMACION   \n",
      "2558     1234989426  EN FORMACION   \n",
      "2559     1234989426  EN FORMACION   \n",
      "2560     1234989426  EN FORMACION   \n",
      "2561     1234989426  EN FORMACION   \n",
      "\n",
      "                                             competence  \\\n",
      "12         2 - RESULTADOS DE APRENDIZAJE ETAPA PRACTICA   \n",
      "13    36180 - Enrique Low Murtra-Interactuar en el c...   \n",
      "14    36180 - Enrique Low Murtra-Interactuar en el c...   \n",
      "15    36180 - Enrique Low Murtra-Interactuar en el c...   \n",
      "16    36180 - Enrique Low Murtra-Interactuar en el c...   \n",
      "...                                                 ...   \n",
      "2557  38560 - Razonar cuantitativamente frente a sit...   \n",
      "2558  38561 - Gestionar procesos propios de la cultu...   \n",
      "2559  38561 - Gestionar procesos propios de la cultu...   \n",
      "2560  38561 - Gestionar procesos propios de la cultu...   \n",
      "2561  38561 - Gestionar procesos propios de la cultu...   \n",
      "\n",
      "                                         learningResult evaluationJudgment  \\\n",
      "12    590803 - APLICAR EN LA RESOLUCIÓN DE PROBLEMAS...        POR EVALUAR   \n",
      "13    593147 - 02  ESTABLECER RELACIONES DE CRECIMIE...           APROBADO   \n",
      "14    593148 - 03  PROMOVER EL USO RACIONAL DE LOS R...           APROBADO   \n",
      "15    593149 - 01  PROMOVER MI DIGNIDAD Y LA DEL OTR...           APROBADO   \n",
      "16    593150 - 04  CONTRIBUIR CON EL FORTALECIMIENTO...           APROBADO   \n",
      "...                                                 ...                ...   \n",
      "2557  593258 - 02  PLANTEAR PROBLEMAS MATEMÁTICOS A ...           APROBADO   \n",
      "2558  593259 - 02  CARACTERIZAR LA IDEA DE NEGOCIO T...           APROBADO   \n",
      "2559  593340 - 03  ESTRUCTURAR EL PLAN DE NEGOCIO DE...           APROBADO   \n",
      "2560  593341 - 04  VALORAR LA PROPUESTA DE NEGOCIO C...           APROBADO   \n",
      "2561  593342 - 01  INTEGRAR ELEMENTOS DE LA CULTURA ...           APROBADO   \n",
      "\n",
      "                                        official  \n",
      "12                                          -     \n",
      "13    CC 70088944 - JAIRO ISRAEL LONDOÑO SERRATO  \n",
      "14    CC 70088944 - JAIRO ISRAEL LONDOÑO SERRATO  \n",
      "15    CC 70088944 - JAIRO ISRAEL LONDOÑO SERRATO  \n",
      "16    CC 70088944 - JAIRO ISRAEL LONDOÑO SERRATO  \n",
      "...                                          ...  \n",
      "2557    CC 91047204 - FREDY ALBERTO JAIMES MUÑOZ  \n",
      "2558  CC 43723047 - MARIA ANGELA MONTOYA ESTACIO  \n",
      "2559  CC 43723047 - MARIA ANGELA MONTOYA ESTACIO  \n",
      "2560  CC 43723047 - MARIA ANGELA MONTOYA ESTACIO  \n",
      "2561  CC 43723047 - MARIA ANGELA MONTOYA ESTACIO  \n",
      "\n",
      "[2550 rows x 6 columns]\n"
     ]
    }
   ],
   "source": [
    "def upl_competences(code_course):      \n",
    "    competences_df = pd.read_excel('../course-competences/' + code_course + '.xlsx')\n",
    "    competences_df = competences_df.drop([0, 1, 2, 3, 4, 5, 6, 7, 8, 9, 10, 11])\n",
    "    competences_df.columns = ['docType', 'documentNumber', 'name', 'lastname', 'status', 'competence', 'learningResult', 'evaluationJudgment', 'official']\n",
    "    #Eliminar las columnas 'docType', name', 'lastname'\n",
    "    competences_df = competences_df.drop(['docType', 'name', 'lastname'], axis=1)\n",
    "    competences_df['course'] = code_course     \n",
    "    return competences_df.to_dict('records')\n",
    "    \n",
    "    \n",
    "    \n",
    "    \n",
    "    # renombrar las columnas 'documentType', 'documentNumber', 'name', 'lastName', 'cellphone', 'email', 'status'   \n",
    "    print(competences_df)\n",
    "        \n",
    "    \n",
    "    #students_df.columns = ['documentType', 'documentNumber', 'name', 'lastName', 'cellphone', 'email', 'status']\n",
    "    #students_df['course'] = code_course\n",
    "\n",
    "    #return students_df.to_dict('records')\n",
    "upl_competences('2559218')\n",
    "\n"
   ]
  }
 ],
 "metadata": {
  "kernelspec": {
   "display_name": "Python 3",
   "language": "python",
   "name": "python3"
  },
  "language_info": {
   "codemirror_mode": {
    "name": "ipython",
    "version": 3
   },
   "file_extension": ".py",
   "mimetype": "text/x-python",
   "name": "python",
   "nbconvert_exporter": "python",
   "pygments_lexer": "ipython3",
   "version": "3.10.4"
  }
 },
 "nbformat": 4,
 "nbformat_minor": 2
}
